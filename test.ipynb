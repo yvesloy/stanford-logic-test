{
 "cells": [
  {
   "cell_type": "code",
   "execution_count": 26,
   "metadata": {},
   "outputs": [],
   "source": [
    "from logic import *"
   ]
  },
  {
   "cell_type": "code",
   "execution_count": 27,
   "metadata": {},
   "outputs": [
    {
     "data": {
      "text/plain": [
       "Exists($x,And(Light($x),Shines($x)))"
      ]
     },
     "execution_count": 27,
     "metadata": {},
     "output_type": "execute_result"
    }
   ],
   "source": [
    "def lightShines():\n",
    "    def Light(x): return Atom('Light', x)    # whether x is lit\n",
    "    def Shines(x): return Atom('Shines', x)  # whether x is shining\n",
    "    return Exists('$x', And(Light('$x'), Shines('$x')))\n",
    "\n",
    "lightShines()"
   ]
  },
  {
   "cell_type": "code",
   "execution_count": 12,
   "metadata": {},
   "outputs": [
    {
     "data": {
      "text/plain": [
       "I don't buy that."
      ]
     },
     "execution_count": 12,
     "metadata": {},
     "output_type": "execute_result"
    }
   ],
   "source": [
    "Rain = Atom('Rain')           # Shortcut\n",
    "Wet = Atom('Wet')             # Shortcut\n",
    "kb = createResolutionKB()     # Create the knowledge base"
   ]
  },
  {
   "cell_type": "code",
   "execution_count": 28,
   "metadata": {},
   "outputs": [
    {
     "data": {
      "text/plain": [
       "I don't buy that."
      ]
     },
     "execution_count": 28,
     "metadata": {},
     "output_type": "execute_result"
    }
   ],
   "source": [
    "kb.ask(Wet)                   # Prints \"I don't know.\"\n",
    "kb.ask(Not(Wet))              # Prints \"I don't know.\"\n",
    "kb.tell(Implies(Rain, Wet))   # Prints \"I learned something.\"\n",
    "kb.ask(Wet)                   # Prints \"I don't know.\"\n",
    "kb.tell(Rain)                 # Prints \"I learned something.\"\n",
    "kb.tell(Wet)                  # Prints \"I already knew that.\"\n",
    "kb.ask(Wet)                   # Prints \"Yes.\"\n",
    "kb.ask(Not(Wet))              # Prints \"No.\"\n",
    "kb.tell(Not(Wet))             # Prints \"I don't buy that.\""
   ]
  },
  {
   "cell_type": "code",
   "execution_count": 30,
   "metadata": {},
   "outputs": [
    {
     "data": {
      "text/plain": [
       "Exists($x,And(Light($x),Shines($x)))"
      ]
     },
     "execution_count": 30,
     "metadata": {},
     "output_type": "execute_result"
    }
   ],
   "source": [
    "Light = Atom('Light')\n",
    "Shines = Atom('Shines')\n",
    "Exists('$x', And(Atom('Light', '$x'), Atom('Shines', '$x')))"
   ]
  },
  {
   "cell_type": "code",
   "execution_count": 32,
   "metadata": {},
   "outputs": [
    {
     "data": {
      "text/plain": [
       "I already knew that."
      ]
     },
     "execution_count": 32,
     "metadata": {},
     "output_type": "execute_result"
    }
   ],
   "source": [
    "kb.tell(Implies(Rain, Wet))"
   ]
  },
  {
   "cell_type": "code",
   "execution_count": 35,
   "metadata": {},
   "outputs": [
    {
     "ename": "TypeError",
     "evalue": "__init__() takes exactly 1 argument (2 given)",
     "output_type": "error",
     "traceback": [
      "\u001b[0;31m\u001b[0m",
      "\u001b[0;31mTypeError\u001b[0mTraceback (most recent call last)",
      "\u001b[0;32m<ipython-input-35-4cbcfdb9a83c>\u001b[0m in \u001b[0;36m<module>\u001b[0;34m()\u001b[0m\n\u001b[0;32m----> 1\u001b[0;31m \u001b[0mToCNFRule\u001b[0m\u001b[0;34m(\u001b[0m\u001b[0mRain\u001b[0m\u001b[0;34m)\u001b[0m\u001b[0;34m\u001b[0m\u001b[0m\n\u001b[0m",
      "\u001b[0;31mTypeError\u001b[0m: __init__() takes exactly 1 argument (2 given)"
     ]
    }
   ],
   "source": [
    "ToCNFRule(Rain)"
   ]
  },
  {
   "cell_type": "code",
   "execution_count": null,
   "metadata": {},
   "outputs": [],
   "source": []
  }
 ],
 "metadata": {
  "interpreter": {
   "hash": "aee8b7b246df8f9039afb4144a1f6fd8d2ca17a180786b69acc140d282b71a49"
  },
  "kernelspec": {
   "display_name": "Python 3.7.12 64-bit",
   "language": "python",
   "name": "python3"
  },
  "language_info": {
   "codemirror_mode": {
    "name": "ipython",
    "version": 2
   },
   "file_extension": ".py",
   "mimetype": "text/x-python",
   "name": "python",
   "nbconvert_exporter": "python",
   "pygments_lexer": "ipython2",
   "version": "2.7.16"
  },
  "orig_nbformat": 4
 },
 "nbformat": 4,
 "nbformat_minor": 2
}
